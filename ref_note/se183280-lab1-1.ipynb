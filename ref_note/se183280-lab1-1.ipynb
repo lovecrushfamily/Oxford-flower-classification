{
 "cells": [
  {
   "cell_type": "code",
   "execution_count": null,
   "metadata": {
    "_cell_guid": "b1076dfc-b9ad-4769-8c92-a6c4dae69d19",
    "_uuid": "8f2839f25d086af736a60e9eeb907d3b93b6e0e5",
    "execution": {
     "iopub.execute_input": "2025-01-13T06:48:43.516732Z",
     "iopub.status.busy": "2025-01-13T06:48:43.516490Z",
     "iopub.status.idle": "2025-01-13T06:48:47.448533Z",
     "shell.execute_reply": "2025-01-13T06:48:47.447846Z",
     "shell.execute_reply.started": "2025-01-13T06:48:43.516712Z"
    },
    "trusted": true
   },
   "outputs": [],
   "source": [
    "import timm\n",
    "import torch\n",
    "import torch.nn as nn\n",
    "import torch.nn.functional as F\n",
    "from torch.utils.data import DataLoader, Dataset\n",
    "from torchvision import datasets, transforms, models \n",
    "from torchvision.utils import make_grid\n",
    "from sklearn.model_selection import train_test_split\n",
    "from sklearn.metrics import classification_report\n",
    "from PIL import Image\n",
    "import os\n",
    "import random\n",
    "import numpy as np\n",
    "import pandas as pd\n",
    "import matplotlib.pyplot as plt\n",
    "%matplotlib inline\n",
    "import warnings\n",
    "warnings.filterwarnings(\"ignore\")"
   ]
  },
  {
   "cell_type": "code",
   "execution_count": null,
   "metadata": {
    "execution": {
     "iopub.execute_input": "2025-01-13T06:48:47.449597Z",
     "iopub.status.busy": "2025-01-13T06:48:47.449212Z",
     "iopub.status.idle": "2025-01-13T06:48:47.453854Z",
     "shell.execute_reply": "2025-01-13T06:48:47.452957Z",
     "shell.execute_reply.started": "2025-01-13T06:48:47.449575Z"
    },
    "trusted": true
   },
   "outputs": [],
   "source": [
    "transform = transforms.Compose([\n",
    "    transforms.Resize((224, 224)),\n",
    "    transforms.ToTensor(),\n",
    "    transforms.Normalize(mean=[0.485, 0.456, 0.406], std=[0.229, 0.224, 0.225])\n",
    "])"
   ]
  },
  {
   "cell_type": "code",
   "execution_count": null,
   "metadata": {
    "execution": {
     "iopub.execute_input": "2025-01-13T06:48:47.455100Z",
     "iopub.status.busy": "2025-01-13T06:48:47.454763Z",
     "iopub.status.idle": "2025-01-13T06:48:47.474188Z",
     "shell.execute_reply": "2025-01-13T06:48:47.473517Z",
     "shell.execute_reply.started": "2025-01-13T06:48:47.455066Z"
    },
    "trusted": true
   },
   "outputs": [],
   "source": [
    "import json\n",
    "with open('/kaggle/input/pytorch-challange-flower-dataset/cat_to_name.json', 'r') as f:\n",
    "    cat2name_mapping = json.load(f)\n",
    "#print(cat2name_mapping)\n",
    "class_names = [cat2name_mapping[cat] for cat in cat2name_mapping]\n",
    "cat_list = [cat for cat in cat2name_mapping]\n",
    "#print(cat_list)\n",
    "print(class_names)\n",
    "N=list(range(len(class_names)))\n",
    "cat2N_mapping=dict(zip(cat_list,N)) \n",
    "name2N_mapping=dict(zip(class_names,N)) \n",
    "N2name_mapping=dict(zip(N,class_names))"
   ]
  },
  {
   "cell_type": "code",
   "execution_count": null,
   "metadata": {
    "execution": {
     "iopub.execute_input": "2025-01-13T06:48:47.475283Z",
     "iopub.status.busy": "2025-01-13T06:48:47.475027Z",
     "iopub.status.idle": "2025-01-13T06:48:50.005590Z",
     "shell.execute_reply": "2025-01-13T06:48:50.004866Z",
     "shell.execute_reply.started": "2025-01-13T06:48:47.475263Z"
    },
    "trusted": true
   },
   "outputs": [],
   "source": [
    "path_label=[]\n",
    "for dirname, _, filenames in os.walk('/kaggle/input/pytorch-challange-flower-dataset/dataset/train'):\n",
    "    for filename in filenames:\n",
    "        if filename[-4:]=='.jpg' and dirname.split('/')[-1] in cat_list:\n",
    "            path=os.path.join(dirname, filename)\n",
    "            label=dirname.split('/')[-1]\n",
    "            path_label+=[(path,cat2N_mapping[label])]\n",
    "            \n",
    "tpath_label=[]\n",
    "for dirname, _, filenames in os.walk('/kaggle/input/pytorch-challange-flower-dataset/dataset/valid'):\n",
    "    for filename in filenames:\n",
    "        if filename[-4:]=='.jpg' and dirname.split('/')[-1] in cat_list:\n",
    "            path=os.path.join(dirname, filename)\n",
    "            label=dirname.split('/')[-1]\n",
    "            tpath_label+=[(path,cat2N_mapping[label])]  "
   ]
  },
  {
   "cell_type": "code",
   "execution_count": null,
   "metadata": {
    "execution": {
     "iopub.execute_input": "2025-01-13T06:48:50.006635Z",
     "iopub.status.busy": "2025-01-13T06:48:50.006366Z",
     "iopub.status.idle": "2025-01-13T06:48:50.011375Z",
     "shell.execute_reply": "2025-01-13T06:48:50.010682Z",
     "shell.execute_reply.started": "2025-01-13T06:48:50.006602Z"
    },
    "trusted": true
   },
   "outputs": [],
   "source": [
    "class ImageDataset(Dataset):\n",
    "    def __init__(self, path_label, transform=None):\n",
    "        self.path_label = path_label\n",
    "        self.transform = transform\n",
    "\n",
    "    def __len__(self):\n",
    "        return len(self.path_label)\n",
    "\n",
    "    def __getitem__(self, idx):\n",
    "        path, label = self.path_label[idx]\n",
    "        img = Image.open(path).convert('RGB')\n",
    "\n",
    "        if self.transform is not None:\n",
    "            img = self.transform(img)\n",
    "\n",
    "        return img, label"
   ]
  },
  {
   "cell_type": "code",
   "execution_count": null,
   "metadata": {
    "execution": {
     "iopub.execute_input": "2025-01-13T06:48:50.014471Z",
     "iopub.status.busy": "2025-01-13T06:48:50.014238Z",
     "iopub.status.idle": "2025-01-13T06:48:50.032956Z",
     "shell.execute_reply": "2025-01-13T06:48:50.032067Z",
     "shell.execute_reply.started": "2025-01-13T06:48:50.014453Z"
    },
    "trusted": true
   },
   "outputs": [],
   "source": [
    "train_data = ImageDataset(path_label, transform)\n",
    "test_data = ImageDataset(tpath_label, transform)"
   ]
  },
  {
   "cell_type": "code",
   "execution_count": null,
   "metadata": {
    "execution": {
     "iopub.execute_input": "2025-01-13T06:48:50.034699Z",
     "iopub.status.busy": "2025-01-13T06:48:50.034450Z",
     "iopub.status.idle": "2025-01-13T06:48:50.047483Z",
     "shell.execute_reply": "2025-01-13T06:48:50.046867Z",
     "shell.execute_reply.started": "2025-01-13T06:48:50.034680Z"
    },
    "trusted": true
   },
   "outputs": [],
   "source": [
    "labels = [label for _, label in train_data.path_label]"
   ]
  },
  {
   "cell_type": "code",
   "execution_count": null,
   "metadata": {
    "execution": {
     "iopub.execute_input": "2025-01-13T06:48:50.048498Z",
     "iopub.status.busy": "2025-01-13T06:48:50.048246Z",
     "iopub.status.idle": "2025-01-13T06:48:50.061176Z",
     "shell.execute_reply": "2025-01-13T06:48:50.060405Z",
     "shell.execute_reply.started": "2025-01-13T06:48:50.048479Z"
    },
    "trusted": true
   },
   "outputs": [],
   "source": [
    "train_loader=DataLoader(train_data,batch_size=32,shuffle=True)\n",
    "test_loader=DataLoader(test_data,batch_size=32)"
   ]
  },
  {
   "cell_type": "code",
   "execution_count": null,
   "metadata": {
    "execution": {
     "iopub.execute_input": "2025-01-13T06:48:50.062184Z",
     "iopub.status.busy": "2025-01-13T06:48:50.061940Z",
     "iopub.status.idle": "2025-01-13T06:48:50.287967Z",
     "shell.execute_reply": "2025-01-13T06:48:50.287235Z",
     "shell.execute_reply.started": "2025-01-13T06:48:50.062144Z"
    },
    "trusted": true
   },
   "outputs": [],
   "source": [
    "for images, labels in train_loader:\n",
    "    break\n",
    "im=make_grid(images,nrow=16)"
   ]
  },
  {
   "cell_type": "code",
   "execution_count": null,
   "metadata": {
    "execution": {
     "iopub.execute_input": "2025-01-13T06:48:50.288900Z",
     "iopub.status.busy": "2025-01-13T06:48:50.288671Z",
     "iopub.status.idle": "2025-01-13T06:48:50.933120Z",
     "shell.execute_reply": "2025-01-13T06:48:50.932277Z",
     "shell.execute_reply.started": "2025-01-13T06:48:50.288881Z"
    },
    "trusted": true
   },
   "outputs": [],
   "source": [
    "plt.figure(figsize=(12,12))\n",
    "plt.imshow(np.transpose(im.numpy(),(1,2,0)))"
   ]
  },
  {
   "cell_type": "code",
   "execution_count": null,
   "metadata": {
    "execution": {
     "iopub.execute_input": "2025-01-13T06:48:50.934342Z",
     "iopub.status.busy": "2025-01-13T06:48:50.934029Z",
     "iopub.status.idle": "2025-01-13T06:48:50.953948Z",
     "shell.execute_reply": "2025-01-13T06:48:50.953249Z",
     "shell.execute_reply.started": "2025-01-13T06:48:50.934315Z"
    },
    "trusted": true
   },
   "outputs": [],
   "source": [
    "inv_normalize=transforms.Normalize(mean=[-0.485/0.229,-0.456/0.224,-0.406/0.225],\n",
    "                                    std=[1/0.229,1/0.224,1/0.225])\n",
    "im=inv_normalize(im)"
   ]
  },
  {
   "cell_type": "code",
   "execution_count": null,
   "metadata": {
    "execution": {
     "iopub.execute_input": "2025-01-13T06:48:50.954834Z",
     "iopub.status.busy": "2025-01-13T06:48:50.954612Z",
     "iopub.status.idle": "2025-01-13T06:48:51.517053Z",
     "shell.execute_reply": "2025-01-13T06:48:51.516130Z",
     "shell.execute_reply.started": "2025-01-13T06:48:50.954814Z"
    },
    "trusted": true
   },
   "outputs": [],
   "source": [
    "plt.figure(figsize=(12,12))\n",
    "plt.imshow(np.transpose(im.numpy(),(1,2,0)))"
   ]
  },
  {
   "cell_type": "code",
   "execution_count": null,
   "metadata": {
    "execution": {
     "iopub.execute_input": "2025-01-13T06:48:51.518195Z",
     "iopub.status.busy": "2025-01-13T06:48:51.517921Z",
     "iopub.status.idle": "2025-01-13T06:48:54.599126Z",
     "shell.execute_reply": "2025-01-13T06:48:54.598396Z",
     "shell.execute_reply.started": "2025-01-13T06:48:51.518149Z"
    },
    "trusted": true
   },
   "outputs": [],
   "source": [
    "models_sota = {\n",
    "    \"ResNet50\": models.resnet50(pretrained=True),\n",
    "    \"EfficientNet_B0\": models.efficientnet_b0(pretrained=True),\n",
    "    \"DenseNet121\": models.densenet121(pretrained=True),\n",
    "    \"ViT_B_16\": models.vit_b_16(pretrained=True),\n",
    "    \"Swin_T\": models.swin_t(pretrained=True),\n",
    "    \"ConvNeXt_T\": models.convnext_tiny(pretrained=True),\n",
    "}"
   ]
  },
  {
   "cell_type": "code",
   "execution_count": null,
   "metadata": {
    "execution": {
     "iopub.execute_input": "2025-01-13T06:48:54.600329Z",
     "iopub.status.busy": "2025-01-13T06:48:54.599990Z",
     "iopub.status.idle": "2025-01-13T06:48:54.658404Z",
     "shell.execute_reply": "2025-01-13T06:48:54.657444Z",
     "shell.execute_reply.started": "2025-01-13T06:48:54.600291Z"
    },
    "trusted": true
   },
   "outputs": [],
   "source": [
    "device = torch.device(\"cuda\" if torch.cuda.is_available() else \"cpu\")\n",
    "criterion = nn.CrossEntropyLoss()"
   ]
  },
  {
   "cell_type": "code",
   "execution_count": null,
   "metadata": {
    "execution": {
     "iopub.execute_input": "2025-01-13T06:48:54.659602Z",
     "iopub.status.busy": "2025-01-13T06:48:54.659303Z",
     "iopub.status.idle": "2025-01-13T06:48:54.675769Z",
     "shell.execute_reply": "2025-01-13T06:48:54.674974Z",
     "shell.execute_reply.started": "2025-01-13T06:48:54.659580Z"
    },
    "trusted": true
   },
   "outputs": [],
   "source": [
    "import torch\n",
    "import torch.nn as nn\n",
    "from tqdm import tqdm\n",
    "\n",
    "def train_and_evaluate(model_name, model, train_loader, test_loader, num_classes=102, epochs=5, lr=1e-3):\n",
    "    print(f\"\\nTraining {model_name}...\")\n",
    "\n",
    "    # Đưa mô hình về thiết bị (GPU nếu có)\n",
    "    model = model.to(device)\n",
    "    \n",
    "    # Sử dụng DataParallel nếu có nhiều GPU\n",
    "    if torch.cuda.device_count() > 1:\n",
    "        model = nn.DataParallel(model)\n",
    "\n",
    "    # Thay đổi output layer để phù hợp với số lớp của bạn\n",
    "    if hasattr(model, 'fc'):  # Ví dụ với ResNet\n",
    "        model.fc = nn.Linear(model.fc.in_features, num_classes).to(device)\n",
    "    elif hasattr(model, 'classifier'):  # Ví dụ với DenseNet, EfficientNet\n",
    "        model.classifier = nn.Linear(model.classifier.in_features, num_classes).to(device)\n",
    "    elif hasattr(model, 'heads'):  # Ví dụ với ViT\n",
    "        model.heads.head = nn.Linear(model.heads.head.in_features, num_classes).to(device)\n",
    "    \n",
    "    # Đảm bảo criterion sử dụng device\n",
    "    criterion = nn.CrossEntropyLoss().to(device)\n",
    "    \n",
    "    # Tạo optimizer\n",
    "    optimizer = torch.optim.Adam(model.parameters(), lr=lr)\n",
    "    \n",
    "    for epoch in range(epochs):\n",
    "        model.train()\n",
    "        train_loss, correct = 0, 0\n",
    "        # Sử dụng tqdm để tạo thanh tiến độ\n",
    "        with tqdm(total=len(train_loader), desc=f'Epoch {epoch+1}/{epochs}', unit='batch') as pbar:\n",
    "            for images, labels in train_loader:\n",
    "                # Di chuyển dữ liệu vào device\n",
    "                images, labels = images.to(device), labels.to(device)\n",
    "                \n",
    "                # Zero gradients, backward pass, optimizer step\n",
    "                optimizer.zero_grad()\n",
    "                outputs = model(images)\n",
    "                loss = criterion(outputs, labels)\n",
    "                loss.backward()\n",
    "                optimizer.step()\n",
    "\n",
    "                # Cập nhật thống kê\n",
    "                train_loss += loss.item()\n",
    "                correct += (outputs.argmax(1) == labels).sum().item()\n",
    "\n",
    "                # Cập nhật thanh tiến độ\n",
    "                pbar.set_postfix(loss=train_loss / (pbar.n + 1), accuracy=correct / len(train_loader.dataset))\n",
    "                pbar.update(1)  # Cập nhật thanh tiến độ\n",
    "\n",
    "        # Tính toán độ chính xác và in ra\n",
    "        accuracy = correct / len(train_loader.dataset)\n",
    "        print(f\"Epoch {epoch+1}/{epochs} - Loss: {train_loss:.4f}, Accuracy: {accuracy:.4f}\")\n",
    "\n",
    "    # Đánh giá trên tập test\n",
    "    model.eval()\n",
    "    test_loss, correct = 0, 0\n",
    "    with torch.no_grad():\n",
    "        for images, labels in test_loader:\n",
    "            # Di chuyển dữ liệu vào device\n",
    "            images, labels = images.to(device), labels.to(device)\n",
    "            outputs = model(images)\n",
    "            loss = criterion(outputs, labels)\n",
    "            test_loss += loss.item()\n",
    "            correct += (outputs.argmax(1) == labels).sum().item()\n",
    "\n",
    "    # Tính độ chính xác trên test set\n",
    "    test_accuracy = correct / len(test_loader.dataset)\n",
    "    print(f\"Test Accuracy for {model_name}: {test_accuracy:.4f}\")\n",
    "\n",
    "    # Lưu checkpoint\n",
    "    checkpoint_path = f\"{model_name}_checkpoint.pth\"  # Tên checkpoint theo model\n",
    "    checkpoint = {\n",
    "        'model_state_dict': model.state_dict(),\n",
    "        'optimizer_state_dict': optimizer.state_dict(),\n",
    "        'epoch': epochs,\n",
    "        'loss': train_loss / len(train_loader),\n",
    "        'accuracy': accuracy,\n",
    "    }\n",
    "    torch.save(checkpoint, checkpoint_path)\n",
    "    print(f\"Checkpoint saved to {checkpoint_path}\")\n"
   ]
  },
  {
   "cell_type": "code",
   "execution_count": null,
   "metadata": {
    "execution": {
     "iopub.execute_input": "2025-01-13T06:48:54.676760Z",
     "iopub.status.busy": "2025-01-13T06:48:54.676517Z",
     "iopub.status.idle": "2025-01-13T07:42:53.994884Z",
     "shell.execute_reply": "2025-01-13T07:42:53.993844Z",
     "shell.execute_reply.started": "2025-01-13T06:48:54.676728Z"
    },
    "trusted": true
   },
   "outputs": [],
   "source": [
    "for model_name, model in models_sota.items():\n",
    "    train_and_evaluate(model_name, model, train_loader, test_loader)"
   ]
  }
 ],
 "metadata": {
  "kaggle": {
   "accelerator": "nvidiaTeslaT4",
   "dataSources": [
    {
     "datasetId": 76785,
     "sourceId": 2271054,
     "sourceType": "datasetVersion"
    }
   ],
   "dockerImageVersionId": 30822,
   "isGpuEnabled": true,
   "isInternetEnabled": true,
   "language": "python",
   "sourceType": "notebook"
  },
  "kernelspec": {
   "display_name": "Python 3",
   "language": "python",
   "name": "python3"
  },
  "language_info": {
   "codemirror_mode": {
    "name": "ipython",
    "version": 3
   },
   "file_extension": ".py",
   "mimetype": "text/x-python",
   "name": "python",
   "nbconvert_exporter": "python",
   "pygments_lexer": "ipython3",
   "version": "3.10.12"
  }
 },
 "nbformat": 4,
 "nbformat_minor": 4
}
