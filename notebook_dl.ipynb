{
 "cells": [
  {
   "cell_type": "markdown",
   "metadata": {},
   "source": [
    "## Oxford flower classification (Deep learning)"
   ]
  },
  {
   "cell_type": "code",
   "execution_count": null,
   "metadata": {},
   "outputs": [],
   "source": [
    "import torch                            # Core pytorch for tensor operator\n",
    "import torch.nn as nn                   # Neural network module (layers, loss_function,..)\n",
    "import torch.optim as optim             # optimization algorithms (SDG, RMSprop, Adam,...)\n",
    "import torch.nn.functional as F         # Functional operations (activations, pooling,..)\n",
    "import torch.utils.data as data         # Dataset handling and batching\n",
    "\n",
    "import torchvision                                  # Computer vision utilities and pre-trained models\n",
    "from torchvision import models\n",
    "from torchvision import transforms                  # Image processing and augmentation\n",
    "from torchvision import datasets                    # Image processing and augmentation\n",
    "from torchvision.datasets import CIFAR100           # common CV datasets\n",
    "from torchvision.models import resnet50             # Pre-trained model supported in PyTorch\n",
    "from torchvision.models import ViT_B_16_Weights\n",
    "from torchvision.models import vit_b_16\n",
    "from torchinfo import summary\n",
    "\n",
    "f\"Torch version: {torch.__version__}\", \"^\",\\\n",
    "f\"Torchvision version: {torchvision.__version__}\"\n",
    "\n",
    "\"\"\"\n",
    "A series of helper functions used throughout the course.\n",
    "If a function gets defined once and could be used over and over, it'll go in here.\n",
    "\"\"\"\n",
    "import matplotlib.pyplot as plt\n",
    "import numpy as np\n",
    "import os\n",
    "import zipfile\n",
    "from pathlib import Path\n",
    "import requests\n",
    "from tqdm.auto import tqdm\n",
    "from typing import Dict, List, Tuple\n",
    "import time\n",
    "import sys\n",
    "import warnings\n",
    "from datetime import datetime\n",
    "warnings.filterwarnings(\"ignore\")\n"
   ]
  },
  {
   "cell_type": "markdown",
   "metadata": {},
   "source": [
    "### *Diagnostic Code*"
   ]
  },
  {
   "cell_type": "code",
   "execution_count": null,
   "metadata": {},
   "outputs": [],
   "source": [
    "import torch.version \n",
    "\n",
    "device = torch.device(\"cuda\" if torch.cuda.is_available() else \"cpu\")\n",
    "print(f\"Device name: {torch.cuda.get_device_name()}\")\n",
    "print(f\"Using device: {device}\")\n",
    "print(f\"Cuda version: {torch.version.cuda}\")"
   ]
  },
  {
   "cell_type": "markdown",
   "metadata": {},
   "source": [
    "### *Get the data*"
   ]
  },
  {
   "cell_type": "code",
   "execution_count": null,
   "metadata": {},
   "outputs": [],
   "source": []
  }
 ],
 "metadata": {
  "language_info": {
   "name": "python"
  }
 },
 "nbformat": 4,
 "nbformat_minor": 2
}
